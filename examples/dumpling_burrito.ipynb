{
 "cells": [
  {
   "cell_type": "markdown",
   "metadata": {},
   "source": [
    "# Table of Contents\n",
    "* [1. Burrito use example](#1.-Burrito-use-example)\n",
    "\t* [1.1 exmaple of the same filling](#1.1-exmaple-of-the-same-filling)\n",
    "* [2. dumpling use example](#2.-dumpling-use-example)\n",
    "\t* [2.1 example of filling](#2.1-example-of-filling)\n",
    "\t* [2.2 This is how the Dumpling object looks like](#2.2-This-is-how-the-Dumpling-object-looks-like)\n",
    "\t* [2.3 You can augment the fillings with more parameters that is not previously wrapped](#2.3-You-can-augment-the-fillings-with-more-parameters-that-is-not-previously-wrapped)\n",
    "\t* [2.4 You only need two types of command line](#2.4-You-only-need-two-types-of-command-line)\n",
    "\t* [2.5 the parameters are ordered](#2.5-the-parameters-are-ordered)\n"
   ]
  },
  {
   "cell_type": "markdown",
   "metadata": {},
   "source": [
    "** To run this notebook, you need to install Infernal: http://infernal.janelia.org/ **"
   ]
  },
  {
   "cell_type": "code",
   "execution_count": 1,
   "metadata": {
    "collapsed": true
   },
   "outputs": [],
   "source": [
    "from dumpling import check_choice, Dumpling, OptionParam, ArgmntParam, Parameters"
   ]
  },
  {
   "cell_type": "markdown",
   "metadata": {},
   "source": [
    "# 1. Burrito use example"
   ]
  },
  {
   "cell_type": "markdown",
   "metadata": {},
   "source": [
    "## 1.1 exmaple of the same filling\n",
    "\n",
    "This is the typical usage of Burrito to make a filling. Developers provide util functions (`scan_file`, `scan_seq` here) for end users to call."
   ]
  },
  {
   "cell_type": "code",
   "execution_count": 2,
   "metadata": {
    "collapsed": false
   },
   "outputs": [],
   "source": [
    "with open('cmscan2.py', 'w') as o:\n",
    "    o.write('''\n",
    "from burrito.parameters import FlagParameter, ValuedParameter\n",
    "from burrito.util import CommandLineApplication, ResultPath\n",
    "from tempfile import NamedTemporaryFile\n",
    "from skbio import write\n",
    "\n",
    "class CMScan(CommandLineApplication):\n",
    "    \"\"\"cmscan application controller.\n",
    "\n",
    "    INFERNAL 1.1.1 (July 2014)\"\"\"\n",
    "    _command = \"cmscan\"\n",
    "    _suppress_stderr = False\n",
    "\n",
    "    _parameters = { \n",
    "        # save parseable table of hits to file\n",
    "        '--tblout': ValuedParameter('--', Name='tblout', Delimiter=' ', IsPath=True),\n",
    "        # number of parallel CPU workers to use for multithreads\n",
    "        '--cpu': ValuedParameter('--', Name='cpu', Delimiter=' ')}\n",
    "    _synonyms = {'cpu': '--cpu'}\n",
    "    def _accept_exit_status(self, exit_status):\n",
    "        return exit_status == 0\n",
    "\n",
    "    def _get_result_paths(self,data):\n",
    "        result = {}\n",
    "        for i in ['--tblout']:\n",
    "            o = self.Parameters[i]\n",
    "            if o.isOn():\n",
    "                out_fp = self._absolute(o.Value)\n",
    "                result[i] = ResultPath(Path=out_fp, IsWritten=True)\n",
    "        return result\n",
    "        \n",
    "def scan_file(query, db, cpu=1, params=None):\n",
    "    if params is None:\n",
    "        params = {}\n",
    "    params['--cpu'] = cpu\n",
    "    app = CMScan(InputHandler='_input_as_paths', params=params)\n",
    "    return app([db, query])\n",
    "\n",
    "def scan_seq(seq, db, cpu=1, params=None):\n",
    "    if params is None:\n",
    "        params = {}\n",
    "    params['--cpu'] = cpu\n",
    "    app = CMScan(InputHandler='_input_as_paths', params=params)\n",
    "    with NamedTemporaryFile(mode='w+') as i:\n",
    "        write(seq, into=i.name, format='fasta')\n",
    "        return app([db, i.name])\n",
    "''')"
   ]
  },
  {
   "cell_type": "code",
   "execution_count": 3,
   "metadata": {
    "collapsed": false
   },
   "outputs": [],
   "source": [
    "from cmscan2 import scan_seq\n",
    "from skbio import read, DNA\n",
    "\n",
    "seq = DNA('ATGCATGC', metadata={'id': 'seq1'})\n",
    "# tblout has to be passed in a dict and can't be as a keyword argument unless changing the API of scan_seq\n",
    "res = scan_seq(seq, db='Rfam.cm', params={'--tblout': '/tmp/a.tblout'})"
   ]
  },
  {
   "cell_type": "code",
   "execution_count": 4,
   "metadata": {
    "collapsed": false
   },
   "outputs": [
    {
     "name": "stdout",
     "output_type": "stream",
     "text": [
      "# cmscan :: search sequence(s) against a CM database\n",
      "# INFERNAL 1.1.1 (July 2014)\n",
      "# Copyright (C) 2014 Howard Hughes Medical Institute.\n",
      "# Freely distributed under the GNU General Public License (GPLv3).\n",
      "# - - - - - - - - - - - - - - - - - - - - - - - - - - - - - - - - - - - -\n",
      "# query sequence file:                   /var/folders/4f/5zc7djg954dc71r037j88jwh0000gn/T/tmpxge1ovj_\n",
      "# target CM database:                    Rfam.cm\n",
      "# tabular output of hits:                /tmp/a.tblout\n",
      "# number of worker threads:              1 [--cpu]\n",
      "# - - - - - - - - - - - - - - - - - - - - - - - - - - - - - - - - - - - -\n",
      "\n",
      "Query:       seq1  [L=8]\n",
      "Hit scores:\n",
      " rank     E-value  score  bias  modelname  start    end   mdl trunc   gc  description\n",
      " ----   --------- ------ -----  --------- ------ ------   --- ----- ----  -----------\n",
      "\n",
      "   [No hits detected that satisfy reporting thresholds]\n",
      "\n",
      "\n",
      "Hit alignments:\n",
      "\n",
      "   [No hits detected that satisfy reporting thresholds]\n",
      "\n",
      "\n",
      "Internal CM pipeline statistics summary:\n",
      "----------------------------------------\n",
      "Query sequence(s):                                               1  (16 residues searched)\n",
      "Query sequences re-searched for truncated hits:                  1  (48.0 residues re-searched, avg per model)\n",
      "Target model(s):                                                 2  (105 consensus positions)\n",
      "Windows   passing  local HMM SSV           filter:               0  (0); expected (0.35)\n",
      "Windows   passing  local HMM Viterbi       filter:                  (off)\n",
      "Windows   passing  local HMM Viterbi  bias filter:                  (off)\n",
      "Windows   passing  local HMM Forward       filter:               0  (0); expected (0.02)\n",
      "Windows   passing  local HMM Forward  bias filter:               0  (0); expected (0.02)\n",
      "Windows   passing glocal HMM Forward       filter:               0  (0); expected (0.02)\n",
      "Windows   passing glocal HMM Forward  bias filter:               0  (0); expected (0.02)\n",
      "Envelopes passing glocal HMM envelope defn filter:               0  (0); expected (0.02)\n",
      "Envelopes passing  local CM  CYK           filter:               0  (0); expected (0.0001)\n",
      "Total CM hits reported:                                          0  (0); includes 0 truncated hit(s)\n",
      "\n",
      "# CPU time: 0.00u 0.00s 00:00:00.00 Elapsed: 00:00:00.00\n",
      "//\n",
      "[ok]\n",
      "\n"
     ]
    }
   ],
   "source": [
    "print(res['StdOut'].read())"
   ]
  },
  {
   "cell_type": "markdown",
   "metadata": {},
   "source": [
    "# 2. dumpling use example"
   ]
  },
  {
   "cell_type": "markdown",
   "metadata": {},
   "source": [
    "## 2.1 example of filling"
   ]
  },
  {
   "cell_type": "markdown",
   "metadata": {},
   "source": [
    "An example of using dumpling to wrap Infernal cmscan command below. The parameter definition is much more readable and cleaner:"
   ]
  },
  {
   "cell_type": "code",
   "execution_count": 5,
   "metadata": {
    "collapsed": false
   },
   "outputs": [],
   "source": [
    "# this is a filling module: cmscan.py\n",
    "with open('cmscan.py', 'w') as o:\n",
    "    o.write('''\n",
    "from tempfile import NamedTemporaryFile\n",
    "from skbio import write\n",
    "from dumpling import check_choice, Dumpling, OptionParam, ArgmntParam, Parameters\n",
    "\n",
    "\n",
    "_params = [\n",
    "        OptionParam('--tblout', name='out', help='save parseable table of hits to file'),\n",
    "        OptionParam('--cpu', value=1, help='number of parallel CPU workers to use for multithreads'),\n",
    "        ArgmntParam(name='db', help='HMM/CM database file'),\n",
    "        ArgmntParam(name='query', help='input sequence to scan')]\n",
    "\n",
    "def scan_file(query, db, cpu=1, **kwargs):\n",
    "    cmscan = Dumpling('cmscan', params=Parameters(*_params))\n",
    "    cmscan.update(query=query, db=db, **kwargs)\n",
    "    return cmscan()\n",
    "\n",
    "def scan_seq(seq, db, cpu=1, **kwargs):\n",
    "    cmscan = Dumpling('cmscan', params=Parameters(*_params))\n",
    "    with NamedTemporaryFile(mode='w+') as i:\n",
    "        write(seq, into=i.name, format='fasta')\n",
    "        cmscan.update(query=i.name, db=db, **kwargs)\n",
    "        return cmscan()\n",
    "''')"
   ]
  },
  {
   "cell_type": "code",
   "execution_count": 6,
   "metadata": {
    "collapsed": false,
    "scrolled": true
   },
   "outputs": [],
   "source": [
    "# this is the real code using the filling\n",
    "from cmscan import scan_seq\n",
    "from skbio import read, DNA\n",
    "\n",
    "seq = DNA('ATGCATGC', metadata={'id': 'seq1'})\n",
    "# out param will be passed to '--tblout' as its name is set.\n",
    "res = scan_seq(seq, db='Rfam.cm', out='/tmp/a.tblout')"
   ]
  },
  {
   "cell_type": "code",
   "execution_count": 7,
   "metadata": {
    "collapsed": false
   },
   "outputs": [
    {
     "data": {
      "text/plain": [
       "0"
      ]
     },
     "execution_count": 7,
     "metadata": {},
     "output_type": "execute_result"
    }
   ],
   "source": [
    "res.returncode"
   ]
  },
  {
   "cell_type": "code",
   "execution_count": 8,
   "metadata": {
    "collapsed": false
   },
   "outputs": [
    {
     "name": "stdout",
     "output_type": "stream",
     "text": [
      "\n"
     ]
    }
   ],
   "source": [
    "print(res.stderr)"
   ]
  },
  {
   "cell_type": "code",
   "execution_count": 9,
   "metadata": {
    "collapsed": false
   },
   "outputs": [
    {
     "name": "stdout",
     "output_type": "stream",
     "text": [
      "# cmscan :: search sequence(s) against a CM database\n",
      "# INFERNAL 1.1.1 (July 2014)\n",
      "# Copyright (C) 2014 Howard Hughes Medical Institute.\n",
      "# Freely distributed under the GNU General Public License (GPLv3).\n",
      "# - - - - - - - - - - - - - - - - - - - - - - - - - - - - - - - - - - - -\n",
      "# query sequence file:                   /var/folders/4f/5zc7djg954dc71r037j88jwh0000gn/T/tmptn3a92sz\n",
      "# target CM database:                    Rfam.cm\n",
      "# tabular output of hits:                /tmp/a.tblout\n",
      "# number of worker threads:              1 [--cpu]\n",
      "# - - - - - - - - - - - - - - - - - - - - - - - - - - - - - - - - - - - -\n",
      "\n",
      "Query:       seq1  [L=8]\n",
      "Hit scores:\n",
      " rank     E-value  score  bias  modelname  start    end   mdl trunc   gc  description\n",
      " ----   --------- ------ -----  --------- ------ ------   --- ----- ----  -----------\n",
      "\n",
      "   [No hits detected that satisfy reporting thresholds]\n",
      "\n",
      "\n",
      "Hit alignments:\n",
      "\n",
      "   [No hits detected that satisfy reporting thresholds]\n",
      "\n",
      "\n",
      "Internal CM pipeline statistics summary:\n",
      "----------------------------------------\n",
      "Query sequence(s):                                               1  (16 residues searched)\n",
      "Query sequences re-searched for truncated hits:                  1  (48.0 residues re-searched, avg per model)\n",
      "Target model(s):                                                 2  (105 consensus positions)\n",
      "Windows   passing  local HMM SSV           filter:               0  (0); expected (0.35)\n",
      "Windows   passing  local HMM Viterbi       filter:                  (off)\n",
      "Windows   passing  local HMM Viterbi  bias filter:                  (off)\n",
      "Windows   passing  local HMM Forward       filter:               0  (0); expected (0.02)\n",
      "Windows   passing  local HMM Forward  bias filter:               0  (0); expected (0.02)\n",
      "Windows   passing glocal HMM Forward       filter:               0  (0); expected (0.02)\n",
      "Windows   passing glocal HMM Forward  bias filter:               0  (0); expected (0.02)\n",
      "Envelopes passing glocal HMM envelope defn filter:               0  (0); expected (0.02)\n",
      "Envelopes passing  local CM  CYK           filter:               0  (0); expected (0.0001)\n",
      "Total CM hits reported:                                          0  (0); includes 0 truncated hit(s)\n",
      "\n",
      "# CPU time: 0.00u 0.00s 00:00:00.00 Elapsed: 00:00:00.00\n",
      "//\n",
      "[ok]\n",
      "\n"
     ]
    }
   ],
   "source": [
    "print(res.stdout)"
   ]
  },
  {
   "cell_type": "markdown",
   "metadata": {},
   "source": [
    "## 2.2 This is how the Dumpling object looks like"
   ]
  },
  {
   "cell_type": "code",
   "execution_count": 10,
   "metadata": {
    "collapsed": true
   },
   "outputs": [],
   "source": [
    "from cmscan import _params\n",
    "cmscan = Dumpling('cmscan', params=Parameters(*_params))"
   ]
  },
  {
   "cell_type": "code",
   "execution_count": 11,
   "metadata": {
    "collapsed": false
   },
   "outputs": [
    {
     "data": {
      "text/plain": [
       "Dumpling\n",
       "--------\n",
       "CMD: cmscan\n",
       "CMD version: ''\n",
       "CMD URL: ''\n",
       "CMD Parameter:\n",
       "OptionParam(flag='--tblout', alter=None, name='out', value=None, action=<lambda>, help='save parseable table of hits to file', delimiter=' ')\n",
       "OptionParam(flag='--cpu', alter=None, name='cpu', value=1, action=<lambda>, help='number of parallel CPU workers to use for multithreads', delimiter=' ')\n",
       "ArgmntParam(name='db', value=None, action=<lambda>, help='HMM/CM database file')\n",
       "ArgmntParam(name='query', value=None, action=<lambda>, help='input sequence to scan')"
      ]
     },
     "execution_count": 11,
     "metadata": {},
     "output_type": "execute_result"
    }
   ],
   "source": [
    "cmscan"
   ]
  },
  {
   "cell_type": "code",
   "execution_count": 12,
   "metadata": {
    "collapsed": true
   },
   "outputs": [],
   "source": [
    "# update with keyword argument or dict:\n",
    "\n",
    "cmscan.update(cpu=2, out='/tmp/foo.txt', db='/Users/zech/Dropbox/git/micronota/micronota/bfillings/tests/data/infernal/test.cm', query='/Users/zech/Dropbox/git/micronota/micronota/bfillings/tests/data/infernal/NC_018498.fna')\n",
    "\n",
    "cmscan.update(**{'cpu':3})"
   ]
  },
  {
   "cell_type": "markdown",
   "metadata": {},
   "source": [
    "This the command that will actually run:"
   ]
  },
  {
   "cell_type": "code",
   "execution_count": 13,
   "metadata": {
    "collapsed": false
   },
   "outputs": [
    {
     "data": {
      "text/plain": [
       "['cmscan',\n",
       " '--tblout',\n",
       " '/tmp/foo.txt',\n",
       " '--cpu',\n",
       " '3',\n",
       " '/Users/zech/Dropbox/git/micronota/micronota/bfillings/tests/data/infernal/test.cm',\n",
       " '/Users/zech/Dropbox/git/micronota/micronota/bfillings/tests/data/infernal/NC_018498.fna']"
      ]
     },
     "execution_count": 13,
     "metadata": {},
     "output_type": "execute_result"
    }
   ],
   "source": [
    "cmscan.command"
   ]
  },
  {
   "cell_type": "markdown",
   "metadata": {},
   "source": [
    "## 2.3 You can augment the fillings with more parameters that is not previously wrapped"
   ]
  },
  {
   "cell_type": "code",
   "execution_count": 14,
   "metadata": {
    "collapsed": false
   },
   "outputs": [],
   "source": [
    "from cmscan import _params\n",
    "more_params = [\n",
    "    OptionParam('--rfam', help='Set all filter thresholds as if the search space were more than 20 Gb.'),\n",
    "    OptionParam('--noali', value=True,\n",
    "                help='Omit the alignment section from the main output. This can greatly reduce the output volume.')]\n",
    "cmscan = Dumpling('cmscan', params=Parameters(*more_params + _params), version='1.1.1', url='www.infernal.com')"
   ]
  },
  {
   "cell_type": "code",
   "execution_count": 15,
   "metadata": {
    "collapsed": false
   },
   "outputs": [
    {
     "data": {
      "text/plain": [
       "Dumpling\n",
       "--------\n",
       "CMD: cmscan\n",
       "CMD version: '1.1.1'\n",
       "CMD URL: 'www.infernal.com'\n",
       "CMD Parameter:\n",
       "OptionParam(flag='--rfam', alter=None, name='rfam', value=None, action=<lambda>, help='Set all filter thresholds as if the search space were more than 20 Gb.', delimiter=' ')\n",
       "OptionParam(flag='--noali', alter=None, name='noali', value=True, action=<lambda>, help='Omit the alignment section from the main output. This can greatly reduce the output volume.', delimiter=' ')\n",
       "OptionParam(flag='--tblout', alter=None, name='out', value=None, action=<lambda>, help='save parseable table of hits to file', delimiter=' ')\n",
       "OptionParam(flag='--cpu', alter=None, name='cpu', value=1, action=<lambda>, help='number of parallel CPU workers to use for multithreads', delimiter=' ')\n",
       "ArgmntParam(name='db', value=None, action=<lambda>, help='HMM/CM database file')\n",
       "ArgmntParam(name='query', value=None, action=<lambda>, help='input sequence to scan')"
      ]
     },
     "execution_count": 15,
     "metadata": {},
     "output_type": "execute_result"
    }
   ],
   "source": [
    "cmscan"
   ]
  },
  {
   "cell_type": "markdown",
   "metadata": {},
   "source": [
    "## 2.4 You only need two types of command line"
   ]
  },
  {
   "cell_type": "markdown",
   "metadata": {},
   "source": [
    "You can use OptionParam for any of parameter type of `burrito.FlagParameter`, `burrito.ValuedParameter`, `burrito.MixedParameter`, as they are essentially all option parameters in linux command line. It is cleaner and less confusing. Example:"
   ]
  },
  {
   "cell_type": "code",
   "execution_count": 16,
   "metadata": {
    "collapsed": false
   },
   "outputs": [],
   "source": [
    "params = [\n",
    "    # check_choice check if the given value is a member of legal values\n",
    "    OptionParam('-f', action=check_choice((True, False)), help='this is equivlent to burrito.FlagParameter'),\n",
    "    OptionParam('-d', action=check_choice((True, False, 1, 0)), help='this is equivlent to burrito.MixedParameter'),\n",
    "    OptionParam('--input', help='this is equivalent to burrito.ValuedParameter'),\n",
    "]\n",
    "foo = Dumpling(cmd='foo', params=Parameters(*params))"
   ]
  },
  {
   "cell_type": "code",
   "execution_count": 17,
   "metadata": {
    "collapsed": false
   },
   "outputs": [
    {
     "data": {
      "text/plain": [
       "['foo', '-d', '0']"
      ]
     },
     "execution_count": 17,
     "metadata": {},
     "output_type": "execute_result"
    }
   ],
   "source": [
    "foo.update(d=0)\n",
    "foo.command"
   ]
  },
  {
   "cell_type": "code",
   "execution_count": 18,
   "metadata": {
    "collapsed": false
   },
   "outputs": [
    {
     "data": {
      "text/plain": [
       "['foo']"
      ]
     },
     "execution_count": 18,
     "metadata": {},
     "output_type": "execute_result"
    }
   ],
   "source": [
    "foo.update(d=False)\n",
    "foo.command"
   ]
  },
  {
   "cell_type": "code",
   "execution_count": 19,
   "metadata": {
    "collapsed": false
   },
   "outputs": [
    {
     "data": {
      "text/plain": [
       "['foo', '-d']"
      ]
     },
     "execution_count": 19,
     "metadata": {},
     "output_type": "execute_result"
    }
   ],
   "source": [
    "foo.update(d=True)\n",
    "foo.command"
   ]
  },
  {
   "cell_type": "code",
   "execution_count": 20,
   "metadata": {
    "collapsed": false
   },
   "outputs": [
    {
     "data": {
      "text/plain": [
       "['foo', '-f', '-d']"
      ]
     },
     "execution_count": 20,
     "metadata": {},
     "output_type": "execute_result"
    }
   ],
   "source": [
    "foo.update(d=True, f=True)\n",
    "foo.command"
   ]
  },
  {
   "cell_type": "code",
   "execution_count": 21,
   "metadata": {
    "collapsed": false,
    "scrolled": true
   },
   "outputs": [
    {
     "ename": "ValueError",
     "evalue": "Illegal value: 3",
     "output_type": "error",
     "traceback": [
      "\u001b[0;31m---------------------------------------------------------------------------\u001b[0m",
      "\u001b[0;31mValueError\u001b[0m                                Traceback (most recent call last)",
      "\u001b[0;32m<ipython-input-21-cf28911e1fc2>\u001b[0m in \u001b[0;36m<module>\u001b[0;34m()\u001b[0m\n\u001b[0;32m----> 1\u001b[0;31m \u001b[0mfoo\u001b[0m\u001b[0;34m.\u001b[0m\u001b[0mupdate\u001b[0m\u001b[0;34m(\u001b[0m\u001b[0md\u001b[0m\u001b[0;34m=\u001b[0m\u001b[0;36m3\u001b[0m\u001b[0;34m)\u001b[0m\u001b[0;34m\u001b[0m\u001b[0m\n\u001b[0m",
      "\u001b[0;32m/Users/zech/Dropbox/git/dumpling/dumpling.py\u001b[0m in \u001b[0;36mupdate\u001b[0;34m(self, **kwargs)\u001b[0m\n\u001b[1;32m    665\u001b[0m         \u001b[0mParameters\u001b[0m\u001b[0;34m.\u001b[0m\u001b[0mupdate\u001b[0m\u001b[0;34m\u001b[0m\u001b[0m\n\u001b[1;32m    666\u001b[0m         '''\n\u001b[0;32m--> 667\u001b[0;31m         \u001b[0mself\u001b[0m\u001b[0;34m.\u001b[0m\u001b[0mparams\u001b[0m\u001b[0;34m.\u001b[0m\u001b[0mupdate\u001b[0m\u001b[0;34m(\u001b[0m\u001b[0;34m**\u001b[0m\u001b[0mkwargs\u001b[0m\u001b[0;34m)\u001b[0m\u001b[0;34m\u001b[0m\u001b[0m\n\u001b[0m\u001b[1;32m    668\u001b[0m \u001b[0;34m\u001b[0m\u001b[0m\n\u001b[1;32m    669\u001b[0m     \u001b[0;32mdef\u001b[0m \u001b[0m__call__\u001b[0m\u001b[0;34m(\u001b[0m\u001b[0mself\u001b[0m\u001b[0;34m,\u001b[0m \u001b[0mcwd\u001b[0m\u001b[0;34m=\u001b[0m\u001b[0;32mNone\u001b[0m\u001b[0;34m,\u001b[0m \u001b[0mstdin\u001b[0m\u001b[0;34m=\u001b[0m\u001b[0mPIPE\u001b[0m\u001b[0;34m,\u001b[0m \u001b[0mstdout\u001b[0m\u001b[0;34m=\u001b[0m\u001b[0mPIPE\u001b[0m\u001b[0;34m,\u001b[0m \u001b[0mstderr\u001b[0m\u001b[0;34m=\u001b[0m\u001b[0mPIPE\u001b[0m\u001b[0;34m,\u001b[0m \u001b[0mcheck\u001b[0m\u001b[0;34m=\u001b[0m\u001b[0;32mTrue\u001b[0m\u001b[0;34m)\u001b[0m\u001b[0;34m:\u001b[0m\u001b[0;34m\u001b[0m\u001b[0m\n",
      "\u001b[0;32m/Users/zech/Dropbox/git/dumpling/dumpling.py\u001b[0m in \u001b[0;36mupdate\u001b[0;34m(self, **kwargs)\u001b[0m\n\u001b[1;32m    522\u001b[0m         '''\n\u001b[1;32m    523\u001b[0m         \u001b[0;32mfor\u001b[0m \u001b[0mk\u001b[0m \u001b[0;32min\u001b[0m \u001b[0msorted\u001b[0m\u001b[0;34m(\u001b[0m\u001b[0mkwargs\u001b[0m\u001b[0;34m)\u001b[0m\u001b[0;34m:\u001b[0m\u001b[0;34m\u001b[0m\u001b[0m\n\u001b[0;32m--> 524\u001b[0;31m             \u001b[0mself\u001b[0m\u001b[0;34m[\u001b[0m\u001b[0mk\u001b[0m\u001b[0;34m]\u001b[0m \u001b[0;34m=\u001b[0m \u001b[0mkwargs\u001b[0m\u001b[0;34m[\u001b[0m\u001b[0mk\u001b[0m\u001b[0;34m]\u001b[0m\u001b[0;34m\u001b[0m\u001b[0m\n\u001b[0m\u001b[1;32m    525\u001b[0m \u001b[0;34m\u001b[0m\u001b[0m\n\u001b[1;32m    526\u001b[0m     \u001b[0;32mdef\u001b[0m \u001b[0moff\u001b[0m\u001b[0;34m(\u001b[0m\u001b[0mself\u001b[0m\u001b[0;34m)\u001b[0m\u001b[0;34m:\u001b[0m\u001b[0;34m\u001b[0m\u001b[0m\n",
      "\u001b[0;32m/Users/zech/Dropbox/git/dumpling/dumpling.py\u001b[0m in \u001b[0;36m__setitem__\u001b[0;34m(self, k, v)\u001b[0m\n\u001b[1;32m    486\u001b[0m         '''\n\u001b[1;32m    487\u001b[0m         \u001b[0;32mif\u001b[0m \u001b[0mk\u001b[0m \u001b[0;32min\u001b[0m \u001b[0mself\u001b[0m\u001b[0;34m:\u001b[0m\u001b[0;34m\u001b[0m\u001b[0m\n\u001b[0;32m--> 488\u001b[0;31m             \u001b[0mself\u001b[0m\u001b[0;34m[\u001b[0m\u001b[0mk\u001b[0m\u001b[0;34m]\u001b[0m\u001b[0;34m.\u001b[0m\u001b[0mon\u001b[0m\u001b[0;34m(\u001b[0m\u001b[0mv\u001b[0m\u001b[0;34m)\u001b[0m\u001b[0;34m\u001b[0m\u001b[0m\n\u001b[0m\u001b[1;32m    489\u001b[0m         \u001b[0;32melse\u001b[0m\u001b[0;34m:\u001b[0m\u001b[0;34m\u001b[0m\u001b[0m\n\u001b[1;32m    490\u001b[0m             \u001b[0mmsg\u001b[0m \u001b[0;34m=\u001b[0m \u001b[0;34m'You cannot set value {!r} on unknown key {!r}'\u001b[0m\u001b[0;34m\u001b[0m\u001b[0m\n",
      "\u001b[0;32m/Users/zech/Dropbox/git/dumpling/dumpling.py\u001b[0m in \u001b[0;36mon\u001b[0;34m(self, value)\u001b[0m\n\u001b[1;32m    137\u001b[0m     \u001b[0;32mdef\u001b[0m \u001b[0mon\u001b[0m\u001b[0;34m(\u001b[0m\u001b[0mself\u001b[0m\u001b[0;34m,\u001b[0m \u001b[0mvalue\u001b[0m\u001b[0;34m)\u001b[0m\u001b[0;34m:\u001b[0m\u001b[0;34m\u001b[0m\u001b[0m\n\u001b[1;32m    138\u001b[0m         \u001b[0;34m'''Set the value of the parameter.'''\u001b[0m\u001b[0;34m\u001b[0m\u001b[0m\n\u001b[0;32m--> 139\u001b[0;31m         \u001b[0mself\u001b[0m\u001b[0;34m.\u001b[0m\u001b[0mvalue\u001b[0m \u001b[0;34m=\u001b[0m \u001b[0mvalue\u001b[0m\u001b[0;34m\u001b[0m\u001b[0m\n\u001b[0m\u001b[1;32m    140\u001b[0m         \u001b[0;32mreturn\u001b[0m \u001b[0mself\u001b[0m\u001b[0;34m\u001b[0m\u001b[0m\n\u001b[1;32m    141\u001b[0m \u001b[0;34m\u001b[0m\u001b[0m\n",
      "\u001b[0;32m/Users/zech/Dropbox/git/dumpling/dumpling.py\u001b[0m in \u001b[0;36mvalue\u001b[0;34m(self, v)\u001b[0m\n\u001b[1;32m    132\u001b[0m     \u001b[0;32mdef\u001b[0m \u001b[0mvalue\u001b[0m\u001b[0;34m(\u001b[0m\u001b[0mself\u001b[0m\u001b[0;34m,\u001b[0m \u001b[0mv\u001b[0m\u001b[0;34m)\u001b[0m\u001b[0;34m:\u001b[0m\u001b[0;34m\u001b[0m\u001b[0m\n\u001b[1;32m    133\u001b[0m         \u001b[0;32mif\u001b[0m \u001b[0mv\u001b[0m \u001b[0;32mis\u001b[0m \u001b[0;32mnot\u001b[0m \u001b[0;32mNone\u001b[0m\u001b[0;34m:\u001b[0m\u001b[0;34m\u001b[0m\u001b[0m\n\u001b[0;32m--> 134\u001b[0;31m             \u001b[0mv\u001b[0m \u001b[0;34m=\u001b[0m \u001b[0mself\u001b[0m\u001b[0;34m.\u001b[0m\u001b[0maction\u001b[0m\u001b[0;34m(\u001b[0m\u001b[0mv\u001b[0m\u001b[0;34m)\u001b[0m\u001b[0;34m\u001b[0m\u001b[0m\n\u001b[0m\u001b[1;32m    135\u001b[0m         \u001b[0mself\u001b[0m\u001b[0;34m.\u001b[0m\u001b[0m__value\u001b[0m \u001b[0;34m=\u001b[0m \u001b[0mv\u001b[0m\u001b[0;34m\u001b[0m\u001b[0m\n\u001b[1;32m    136\u001b[0m \u001b[0;34m\u001b[0m\u001b[0m\n",
      "\u001b[0;32m/Users/zech/Dropbox/git/dumpling/dumpling.py\u001b[0m in \u001b[0;36mfunc\u001b[0;34m(v)\u001b[0m\n\u001b[1;32m     56\u001b[0m         \u001b[0;32mif\u001b[0m \u001b[0mv\u001b[0m \u001b[0;32mnot\u001b[0m \u001b[0;32min\u001b[0m \u001b[0mit\u001b[0m\u001b[0;34m:\u001b[0m\u001b[0;34m\u001b[0m\u001b[0m\n\u001b[1;32m     57\u001b[0m             \u001b[0mmsg\u001b[0m \u001b[0;34m=\u001b[0m \u001b[0;34m'Illegal value: {}'\u001b[0m\u001b[0;34m\u001b[0m\u001b[0m\n\u001b[0;32m---> 58\u001b[0;31m             \u001b[0;32mraise\u001b[0m \u001b[0mValueError\u001b[0m\u001b[0;34m(\u001b[0m\u001b[0mmsg\u001b[0m\u001b[0;34m.\u001b[0m\u001b[0mformat\u001b[0m\u001b[0;34m(\u001b[0m\u001b[0mv\u001b[0m\u001b[0;34m)\u001b[0m\u001b[0;34m)\u001b[0m\u001b[0;34m\u001b[0m\u001b[0m\n\u001b[0m\u001b[1;32m     59\u001b[0m         \u001b[0;32mreturn\u001b[0m \u001b[0mv\u001b[0m\u001b[0;34m\u001b[0m\u001b[0m\n\u001b[1;32m     60\u001b[0m     \u001b[0;32mreturn\u001b[0m \u001b[0mfunc\u001b[0m\u001b[0;34m\u001b[0m\u001b[0m\n",
      "\u001b[0;31mValueError\u001b[0m: Illegal value: 3"
     ]
    }
   ],
   "source": [
    "foo.update(d=3)"
   ]
  },
  {
   "cell_type": "markdown",
   "metadata": {},
   "source": [
    "## 2.5 the parameters are ordered"
   ]
  },
  {
   "cell_type": "markdown",
   "metadata": {},
   "source": [
    "Some weird command line tools require a parameter is given before another in position. I don't think burrito can do this, but dumpling can. The parameters are ordered as you define it:"
   ]
  },
  {
   "cell_type": "code",
   "execution_count": 22,
   "metadata": {
    "collapsed": false
   },
   "outputs": [
    {
     "data": {
      "text/plain": [
       "['foo', '-f', '-d']"
      ]
     },
     "execution_count": 22,
     "metadata": {},
     "output_type": "execute_result"
    }
   ],
   "source": [
    "p1 = [\n",
    "    OptionParam('-f', value=True, action=check_choice((True, False)), help='this is equivlent to burrito.FlagParameter'),\n",
    "    OptionParam('-d', value=True, action=check_choice((True, False, 1, 0)), help='this is equivlent to burrito.MixedParameter')]\n",
    "foo1 = Dumpling('foo', params=Parameters(*p1))\n",
    "foo1.command"
   ]
  },
  {
   "cell_type": "code",
   "execution_count": 23,
   "metadata": {
    "collapsed": false
   },
   "outputs": [
    {
     "data": {
      "text/plain": [
       "['foo', '-d', '-f']"
      ]
     },
     "execution_count": 23,
     "metadata": {},
     "output_type": "execute_result"
    }
   ],
   "source": [
    "# reverse the order of 2 parameters\n",
    "p2 = [\n",
    "    OptionParam('-d', value=True, action=check_choice((True, False, 1, 0)), help='this is equivlent to burrito.MixedParameter'),\n",
    "    OptionParam('-f', value=True, action=check_choice((True, False)), help='this is equivlent to burrito.FlagParameter')]\n",
    "foo2 = Dumpling('foo', params=Parameters(*p2))\n",
    "foo2.command"
   ]
  }
 ],
 "metadata": {
  "kernelspec": {
   "display_name": "Python 3",
   "language": "python",
   "name": "python3"
  },
  "language_info": {
   "codemirror_mode": {
    "name": "ipython",
    "version": 3
   },
   "file_extension": ".py",
   "mimetype": "text/x-python",
   "name": "python",
   "nbconvert_exporter": "python",
   "pygments_lexer": "ipython3",
   "version": "3.5.1"
  }
 },
 "nbformat": 4,
 "nbformat_minor": 0
}
